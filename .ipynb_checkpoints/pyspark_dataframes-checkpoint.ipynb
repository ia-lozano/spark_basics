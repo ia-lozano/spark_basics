{
 "cells": [
  {
   "cell_type": "code",
   "execution_count": 1,
   "id": "05f6be25-f531-4b68-ab98-896c49a69e98",
   "metadata": {
    "tags": []
   },
   "outputs": [],
   "source": [
    "## Getting set up"
   ]
  },
  {
   "cell_type": "code",
   "execution_count": 2,
   "id": "da752acc-3f0d-4a5f-b04f-17a3a8bc165b",
   "metadata": {
    "tags": []
   },
   "outputs": [],
   "source": [
    "from pyspark.sql import SparkSession"
   ]
  },
  {
   "cell_type": "code",
   "execution_count": 3,
   "id": "96572057-cf11-424a-b43f-6a1aab372a7d",
   "metadata": {
    "tags": []
   },
   "outputs": [],
   "source": [
    "spark = SparkSession.builder.getOrCreate()"
   ]
  },
  {
   "cell_type": "code",
   "execution_count": 4,
   "id": "e7705695-6e2d-4258-815f-1922339fc9f5",
   "metadata": {
    "tags": []
   },
   "outputs": [
    {
     "data": {
      "text/html": [
       "\n",
       "            <div>\n",
       "                <p><b>SparkSession - in-memory</b></p>\n",
       "                \n",
       "        <div>\n",
       "            <p><b>SparkContext</b></p>\n",
       "\n",
       "            <p><a href=\"http://DESKTOP-K3T5FS4:4041\">Spark UI</a></p>\n",
       "\n",
       "            <dl>\n",
       "              <dt>Version</dt>\n",
       "                <dd><code>v3.5.1</code></dd>\n",
       "              <dt>Master</dt>\n",
       "                <dd><code>local[*]</code></dd>\n",
       "              <dt>AppName</dt>\n",
       "                <dd><code>pyspark-shell</code></dd>\n",
       "            </dl>\n",
       "        </div>\n",
       "        \n",
       "            </div>\n",
       "        "
      ],
      "text/plain": [
       "<pyspark.sql.session.SparkSession at 0x1da550a4910>"
      ]
     },
     "execution_count": 4,
     "metadata": {},
     "output_type": "execute_result"
    }
   ],
   "source": [
    "spark"
   ]
  },
  {
   "cell_type": "code",
   "execution_count": 5,
   "id": "82e2f87e-1b1b-4f45-94e8-c730560cdaa0",
   "metadata": {
    "tags": []
   },
   "outputs": [],
   "source": [
    "data_path = 'C:/Users/pcmr/spark/data'"
   ]
  },
  {
   "cell_type": "code",
   "execution_count": 6,
   "id": "37f0feb5-56aa-4bc7-8ca9-e7314901f143",
   "metadata": {
    "tags": []
   },
   "outputs": [],
   "source": [
    "## Loading Data into DataFrames: CSV Files"
   ]
  },
  {
   "cell_type": "code",
   "execution_count": 7,
   "id": "114f7342-267b-47c8-b6b1-10c8b103077a",
   "metadata": {
    "tags": []
   },
   "outputs": [],
   "source": [
    "file_path = data_path + '/location_temp.csv'\n",
    "df1 = spark.read.format('csv').option('header', 'true').load(file_path)"
   ]
  },
  {
   "cell_type": "code",
   "execution_count": 8,
   "id": "2ec97a5c-7b83-4cd9-b064-9dbeb9611577",
   "metadata": {
    "tags": []
   },
   "outputs": [
    {
     "name": "stdout",
     "output_type": "stream",
     "text": [
      "+-------------------+-----------+------------+\n",
      "|         event_date|location_id|temp_celcius|\n",
      "+-------------------+-----------+------------+\n",
      "|03/04/2019 19:48:06|       loc0|          29|\n",
      "|03/04/2019 19:53:06|       loc0|          27|\n",
      "|03/04/2019 19:58:06|       loc0|          28|\n",
      "|03/04/2019 20:03:06|       loc0|          30|\n",
      "|03/04/2019 20:08:06|       loc0|          27|\n",
      "|03/04/2019 20:13:06|       loc0|          27|\n",
      "|03/04/2019 20:18:06|       loc0|          27|\n",
      "|03/04/2019 20:23:06|       loc0|          29|\n",
      "|03/04/2019 20:28:06|       loc0|          32|\n",
      "|03/04/2019 20:33:06|       loc0|          35|\n",
      "|03/04/2019 20:38:06|       loc0|          32|\n",
      "|03/04/2019 20:43:06|       loc0|          28|\n",
      "|03/04/2019 20:48:06|       loc0|          28|\n",
      "|03/04/2019 20:53:06|       loc0|          32|\n",
      "|03/04/2019 20:58:06|       loc0|          34|\n",
      "|03/04/2019 21:03:06|       loc0|          33|\n",
      "|03/04/2019 21:08:06|       loc0|          27|\n",
      "|03/04/2019 21:13:06|       loc0|          28|\n",
      "|03/04/2019 21:18:06|       loc0|          33|\n",
      "|03/04/2019 21:23:06|       loc0|          28|\n",
      "+-------------------+-----------+------------+\n",
      "only showing top 20 rows\n",
      "\n"
     ]
    }
   ],
   "source": [
    "df1.show()"
   ]
  },
  {
   "cell_type": "code",
   "execution_count": 9,
   "id": "f467d9a0-ceae-4f0d-8f4d-d0b3c8c57433",
   "metadata": {
    "tags": []
   },
   "outputs": [
    {
     "data": {
      "text/plain": [
       "500000"
      ]
     },
     "execution_count": 9,
     "metadata": {},
     "output_type": "execute_result"
    }
   ],
   "source": [
    "df1.count()"
   ]
  },
  {
   "cell_type": "code",
   "execution_count": 10,
   "id": "d54181ef-4fb6-4ad4-a94f-4688ce4769d1",
   "metadata": {
    "tags": []
   },
   "outputs": [],
   "source": [
    "file_path_no_header = data_path + '/utilization.csv'\n",
    "df2 = spark.read.format('csv').option('header', 'false').option('inferSchema', 'true').load(file_path_no_header)"
   ]
  },
  {
   "cell_type": "code",
   "execution_count": 11,
   "id": "4e1e1c86-92a0-43cf-b009-020420ccc4fe",
   "metadata": {
    "tags": []
   },
   "outputs": [
    {
     "data": {
      "text/plain": [
       "500000"
      ]
     },
     "execution_count": 11,
     "metadata": {},
     "output_type": "execute_result"
    }
   ],
   "source": [
    "df2.count()"
   ]
  },
  {
   "cell_type": "code",
   "execution_count": 12,
   "id": "6e7531d9-a876-44b7-80d0-b73c7c9d4791",
   "metadata": {
    "tags": []
   },
   "outputs": [
    {
     "data": {
      "text/plain": [
       "[Row(_c0='03/05/2019 08:06:14', _c1=100, _c2=0.57, _c3=0.51, _c4=47),\n",
       " Row(_c0='03/05/2019 08:11:14', _c1=100, _c2=0.47, _c3=0.62, _c4=43),\n",
       " Row(_c0='03/05/2019 08:16:14', _c1=100, _c2=0.56, _c3=0.57, _c4=62),\n",
       " Row(_c0='03/05/2019 08:21:14', _c1=100, _c2=0.57, _c3=0.56, _c4=50),\n",
       " Row(_c0='03/05/2019 08:26:14', _c1=100, _c2=0.35, _c3=0.46, _c4=43),\n",
       " Row(_c0='03/05/2019 08:31:14', _c1=100, _c2=0.41, _c3=0.58, _c4=48),\n",
       " Row(_c0='03/05/2019 08:36:14', _c1=100, _c2=0.57, _c3=0.35, _c4=58),\n",
       " Row(_c0='03/05/2019 08:41:14', _c1=100, _c2=0.41, _c3=0.4, _c4=58),\n",
       " Row(_c0='03/05/2019 08:46:14', _c1=100, _c2=0.53, _c3=0.35, _c4=62),\n",
       " Row(_c0='03/05/2019 08:51:14', _c1=100, _c2=0.51, _c3=0.6, _c4=45)]"
      ]
     },
     "execution_count": 12,
     "metadata": {},
     "output_type": "execute_result"
    }
   ],
   "source": [
    "df2.head(10)"
   ]
  },
  {
   "cell_type": "code",
   "execution_count": 13,
   "id": "10e8842e-8496-4cfe-a3f7-b4a4ad3bf3af",
   "metadata": {
    "tags": []
   },
   "outputs": [],
   "source": [
    "df2 = df2.withColumnRenamed('_c0', 'event_datetime')\\\n",
    ".withColumnRenamed('_c1', 'server_id')\\\n",
    ".withColumnRenamed('_c2', 'cpu_utilization')\\\n",
    ".withColumnRenamed('_c3', 'free_memory')\\\n",
    ".withColumnRenamed('_c4', 'session_count')"
   ]
  },
  {
   "cell_type": "code",
   "execution_count": 14,
   "id": "838e0f00-1153-452a-890b-c39ebd6141af",
   "metadata": {
    "tags": []
   },
   "outputs": [
    {
     "data": {
      "text/plain": [
       "[Row(event_datetime='03/05/2019 08:06:14', server_id=100, cpu_utilization=0.57, free_memory=0.51, session_count=47),\n",
       " Row(event_datetime='03/05/2019 08:11:14', server_id=100, cpu_utilization=0.47, free_memory=0.62, session_count=43),\n",
       " Row(event_datetime='03/05/2019 08:16:14', server_id=100, cpu_utilization=0.56, free_memory=0.57, session_count=62),\n",
       " Row(event_datetime='03/05/2019 08:21:14', server_id=100, cpu_utilization=0.57, free_memory=0.56, session_count=50),\n",
       " Row(event_datetime='03/05/2019 08:26:14', server_id=100, cpu_utilization=0.35, free_memory=0.46, session_count=43),\n",
       " Row(event_datetime='03/05/2019 08:31:14', server_id=100, cpu_utilization=0.41, free_memory=0.58, session_count=48),\n",
       " Row(event_datetime='03/05/2019 08:36:14', server_id=100, cpu_utilization=0.57, free_memory=0.35, session_count=58),\n",
       " Row(event_datetime='03/05/2019 08:41:14', server_id=100, cpu_utilization=0.41, free_memory=0.4, session_count=58),\n",
       " Row(event_datetime='03/05/2019 08:46:14', server_id=100, cpu_utilization=0.53, free_memory=0.35, session_count=62),\n",
       " Row(event_datetime='03/05/2019 08:51:14', server_id=100, cpu_utilization=0.51, free_memory=0.6, session_count=45)]"
      ]
     },
     "execution_count": 14,
     "metadata": {},
     "output_type": "execute_result"
    }
   ],
   "source": [
    "df2.head(10)"
   ]
  },
  {
   "cell_type": "code",
   "execution_count": 15,
   "id": "ef5b320c-38aa-4598-be19-0905abef0ba0",
   "metadata": {
    "tags": []
   },
   "outputs": [
    {
     "name": "stdout",
     "output_type": "stream",
     "text": [
      "+-------------------+---------+---------------+-----------+-------------+\n",
      "|     event_datetime|server_id|cpu_utilization|free_memory|session_count|\n",
      "+-------------------+---------+---------------+-----------+-------------+\n",
      "|03/05/2019 08:06:14|      100|           0.57|       0.51|           47|\n",
      "|03/05/2019 08:11:14|      100|           0.47|       0.62|           43|\n",
      "|03/05/2019 08:16:14|      100|           0.56|       0.57|           62|\n",
      "|03/05/2019 08:21:14|      100|           0.57|       0.56|           50|\n",
      "|03/05/2019 08:26:14|      100|           0.35|       0.46|           43|\n",
      "|03/05/2019 08:31:14|      100|           0.41|       0.58|           48|\n",
      "|03/05/2019 08:36:14|      100|           0.57|       0.35|           58|\n",
      "|03/05/2019 08:41:14|      100|           0.41|        0.4|           58|\n",
      "|03/05/2019 08:46:14|      100|           0.53|       0.35|           62|\n",
      "|03/05/2019 08:51:14|      100|           0.51|        0.6|           45|\n",
      "|03/05/2019 08:56:14|      100|           0.32|       0.37|           47|\n",
      "|03/05/2019 09:01:14|      100|           0.62|       0.59|           60|\n",
      "|03/05/2019 09:06:14|      100|           0.66|       0.72|           57|\n",
      "|03/05/2019 09:11:14|      100|           0.54|       0.54|           44|\n",
      "|03/05/2019 09:16:14|      100|           0.29|        0.4|           47|\n",
      "|03/05/2019 09:21:14|      100|           0.43|       0.68|           66|\n",
      "|03/05/2019 09:26:14|      100|           0.49|       0.66|           65|\n",
      "|03/05/2019 09:31:14|      100|           0.64|       0.55|           66|\n",
      "|03/05/2019 09:36:14|      100|           0.42|        0.6|           42|\n",
      "|03/05/2019 09:41:14|      100|           0.55|       0.59|           63|\n",
      "+-------------------+---------+---------------+-----------+-------------+\n",
      "only showing top 20 rows\n",
      "\n"
     ]
    }
   ],
   "source": [
    "df2.show()"
   ]
  },
  {
   "cell_type": "code",
   "execution_count": 16,
   "id": "2640fb03-7910-4778-ab22-14aae9cb2a96",
   "metadata": {
    "tags": []
   },
   "outputs": [],
   "source": [
    "## Loading Data into DataFrames: JSON Files"
   ]
  },
  {
   "cell_type": "code",
   "execution_count": 17,
   "id": "e06ddd79-fccf-4386-b9f8-a179b326effe",
   "metadata": {
    "tags": []
   },
   "outputs": [],
   "source": [
    "json_df1_path = data_path + '/utilization.json'\n",
    "df1_json = spark.read.format('json').load(json_df1_path)"
   ]
  },
  {
   "cell_type": "code",
   "execution_count": 18,
   "id": "253823dc-3121-4a6f-be5a-f19be668bd38",
   "metadata": {
    "tags": []
   },
   "outputs": [
    {
     "data": {
      "text/plain": [
       "500000"
      ]
     },
     "execution_count": 18,
     "metadata": {},
     "output_type": "execute_result"
    }
   ],
   "source": [
    "df1_json.count()"
   ]
  },
  {
   "cell_type": "code",
   "execution_count": 19,
   "id": "d5c3c589-69f9-4911-801b-49ce9617271c",
   "metadata": {
    "tags": []
   },
   "outputs": [
    {
     "name": "stdout",
     "output_type": "stream",
     "text": [
      "+---------------+-------------------+-----------+---------+-------------+\n",
      "|cpu_utilization|     event_datetime|free_memory|server_id|session_count|\n",
      "+---------------+-------------------+-----------+---------+-------------+\n",
      "|           0.57|03/05/2019 08:06:14|       0.51|      100|           47|\n",
      "|           0.47|03/05/2019 08:11:14|       0.62|      100|           43|\n",
      "|           0.56|03/05/2019 08:16:14|       0.57|      100|           62|\n",
      "|           0.57|03/05/2019 08:21:14|       0.56|      100|           50|\n",
      "|           0.35|03/05/2019 08:26:14|       0.46|      100|           43|\n",
      "|           0.41|03/05/2019 08:31:14|       0.58|      100|           48|\n",
      "|           0.57|03/05/2019 08:36:14|       0.35|      100|           58|\n",
      "|           0.41|03/05/2019 08:41:14|        0.4|      100|           58|\n",
      "|           0.53|03/05/2019 08:46:14|       0.35|      100|           62|\n",
      "|           0.51|03/05/2019 08:51:14|        0.6|      100|           45|\n",
      "|           0.32|03/05/2019 08:56:14|       0.37|      100|           47|\n",
      "|           0.62|03/05/2019 09:01:14|       0.59|      100|           60|\n",
      "|           0.66|03/05/2019 09:06:14|       0.72|      100|           57|\n",
      "|           0.54|03/05/2019 09:11:14|       0.54|      100|           44|\n",
      "|           0.29|03/05/2019 09:16:14|        0.4|      100|           47|\n",
      "|           0.43|03/05/2019 09:21:14|       0.68|      100|           66|\n",
      "|           0.49|03/05/2019 09:26:14|       0.66|      100|           65|\n",
      "|           0.64|03/05/2019 09:31:14|       0.55|      100|           66|\n",
      "|           0.42|03/05/2019 09:36:14|        0.6|      100|           42|\n",
      "|           0.55|03/05/2019 09:41:14|       0.59|      100|           63|\n",
      "+---------------+-------------------+-----------+---------+-------------+\n",
      "only showing top 20 rows\n",
      "\n"
     ]
    }
   ],
   "source": [
    "df1_json.show()"
   ]
  },
  {
   "cell_type": "code",
   "execution_count": 20,
   "id": "49d393f1-b9ca-49d8-9d79-64f27f674787",
   "metadata": {
    "tags": []
   },
   "outputs": [],
   "source": [
    "## DataFrame basic operations"
   ]
  },
  {
   "cell_type": "code",
   "execution_count": 21,
   "id": "650b807b-86db-4289-8bd9-718b90ea27c9",
   "metadata": {
    "tags": []
   },
   "outputs": [
    {
     "data": {
      "text/plain": [
       "['event_datetime',\n",
       " 'server_id',\n",
       " 'cpu_utilization',\n",
       " 'free_memory',\n",
       " 'session_count']"
      ]
     },
     "execution_count": 21,
     "metadata": {},
     "output_type": "execute_result"
    }
   ],
   "source": [
    "df2.columns"
   ]
  },
  {
   "cell_type": "code",
   "execution_count": 22,
   "id": "ee5b646f-b264-471d-b363-49868bd71832",
   "metadata": {
    "tags": []
   },
   "outputs": [],
   "source": [
    "## sampling the data (False = do not take the same column twice, fraction = % data usage )\n",
    "df2_sample = df2.sample(False, fraction = 0.1)"
   ]
  },
  {
   "cell_type": "code",
   "execution_count": 23,
   "id": "ce49e513-317b-4c14-a11c-3ad3604d9745",
   "metadata": {
    "tags": []
   },
   "outputs": [
    {
     "name": "stdout",
     "output_type": "stream",
     "text": [
      "+-------------------+---------+---------------+-----------+-------------+\n",
      "|     event_datetime|server_id|cpu_utilization|free_memory|session_count|\n",
      "+-------------------+---------+---------------+-----------+-------------+\n",
      "|03/05/2019 08:06:14|      100|           0.57|       0.51|           47|\n",
      "|03/05/2019 09:16:14|      100|           0.29|        0.4|           47|\n",
      "|03/05/2019 09:21:14|      100|           0.43|       0.68|           66|\n",
      "|03/05/2019 09:56:14|      100|           0.44|       0.48|           63|\n",
      "|03/05/2019 10:06:14|      100|           0.58|       0.54|           55|\n",
      "|03/05/2019 10:16:14|      100|           0.62|       0.69|           56|\n",
      "|03/05/2019 10:31:14|      100|           0.36|       0.35|           61|\n",
      "|03/05/2019 10:41:14|      100|           0.49|       0.65|           59|\n",
      "|03/05/2019 11:56:14|      100|           0.64|       0.62|           68|\n",
      "|03/05/2019 12:11:14|      100|           0.27|       0.65|           69|\n",
      "|03/05/2019 12:26:14|      100|           0.67|        0.6|           66|\n",
      "|03/05/2019 12:56:14|      100|           0.48|       0.38|           44|\n",
      "|03/05/2019 14:01:14|      100|           0.66|       0.69|           56|\n",
      "|03/05/2019 16:21:14|      100|           0.29|       0.53|           43|\n",
      "|03/05/2019 17:11:14|      100|           0.43|       0.47|           48|\n",
      "|03/05/2019 17:36:14|      100|           0.45|       0.33|           38|\n",
      "|03/05/2019 17:46:14|      100|           0.47|       0.39|           40|\n",
      "|03/05/2019 19:01:14|      100|           0.61|       0.45|           38|\n",
      "|03/05/2019 21:41:14|      100|           0.53|        0.6|           42|\n",
      "|03/05/2019 22:06:14|      100|           0.63|       0.49|           43|\n",
      "+-------------------+---------+---------------+-----------+-------------+\n",
      "only showing top 20 rows\n",
      "\n"
     ]
    }
   ],
   "source": [
    "df2_sample.show()"
   ]
  },
  {
   "cell_type": "code",
   "execution_count": 24,
   "id": "f80c8662-ffc0-4a52-9d6b-08fd928ae730",
   "metadata": {
    "tags": []
   },
   "outputs": [
    {
     "name": "stdout",
     "output_type": "stream",
     "text": [
      "+-------------------+---------+---------------+-----------+-------------+\n",
      "|     event_datetime|server_id|cpu_utilization|free_memory|session_count|\n",
      "+-------------------+---------+---------------+-----------+-------------+\n",
      "|03/05/2019 08:06:14|      100|           0.57|       0.51|           47|\n",
      "|03/05/2019 08:06:43|      117|           0.71|       0.61|           60|\n",
      "|03/05/2019 08:06:51|      122|           0.64|       0.48|           65|\n",
      "|03/05/2019 08:07:07|      131|           0.66|       0.52|           79|\n",
      "|03/05/2019 08:07:12|      133|           0.81|       0.15|           78|\n",
      "|03/05/2019 08:07:19|      137|           0.89|       0.31|           65|\n",
      "|03/05/2019 08:11:24|      106|           0.32|       0.56|           59|\n",
      "|03/05/2019 08:11:28|      108|            0.8|       0.26|           79|\n",
      "|03/05/2019 08:11:48|      120|           0.58|       0.38|           64|\n",
      "|03/05/2019 08:11:50|      121|           0.79|       0.14|           63|\n",
      "|03/05/2019 08:12:00|      127|           0.47|       0.32|           65|\n",
      "|03/05/2019 08:12:23|      139|           0.64|        0.3|           96|\n",
      "|03/05/2019 08:12:29|      142|           0.74|       0.23|           79|\n",
      "|03/05/2019 08:16:34|      112|           0.87|        0.1|           64|\n",
      "|03/05/2019 08:16:36|      113|           0.59|       0.05|           74|\n",
      "|03/05/2019 08:17:15|      135|           0.61|       0.55|           54|\n",
      "|03/05/2019 08:17:33|      144|           0.65|        0.3|           86|\n",
      "|03/05/2019 08:21:17|      102|           0.75|       0.12|           87|\n",
      "|03/05/2019 08:21:28|      108|           0.69|       0.44|           68|\n",
      "|03/05/2019 08:21:38|      114|           0.62|       0.57|           74|\n",
      "+-------------------+---------+---------------+-----------+-------------+\n",
      "only showing top 20 rows\n",
      "\n"
     ]
    }
   ],
   "source": [
    "## Sorting the data\n",
    "df2_sort = df2_sample.sort('event_datetime')\n",
    "df2_sort.show()"
   ]
  },
  {
   "cell_type": "code",
   "execution_count": 25,
   "id": "2e19e8b3-f9fb-476a-84a8-fe01059216ee",
   "metadata": {
    "tags": []
   },
   "outputs": [],
   "source": [
    "## Filter data with DataFrame API"
   ]
  },
  {
   "cell_type": "code",
   "execution_count": 26,
   "id": "5d9e9685-8e00-460a-adf9-190604a88c1c",
   "metadata": {
    "tags": []
   },
   "outputs": [
    {
     "name": "stdout",
     "output_type": "stream",
     "text": [
      "+-------------------+-----------+------------+\n",
      "|         event_date|location_id|temp_celcius|\n",
      "+-------------------+-----------+------------+\n",
      "|03/04/2019 19:48:06|       loc0|          29|\n",
      "|03/04/2019 19:53:06|       loc0|          27|\n",
      "|03/04/2019 19:58:06|       loc0|          28|\n",
      "|03/04/2019 20:03:06|       loc0|          30|\n",
      "|03/04/2019 20:08:06|       loc0|          27|\n",
      "|03/04/2019 20:13:06|       loc0|          27|\n",
      "|03/04/2019 20:18:06|       loc0|          27|\n",
      "|03/04/2019 20:23:06|       loc0|          29|\n",
      "|03/04/2019 20:28:06|       loc0|          32|\n",
      "|03/04/2019 20:33:06|       loc0|          35|\n",
      "|03/04/2019 20:38:06|       loc0|          32|\n",
      "|03/04/2019 20:43:06|       loc0|          28|\n",
      "|03/04/2019 20:48:06|       loc0|          28|\n",
      "|03/04/2019 20:53:06|       loc0|          32|\n",
      "|03/04/2019 20:58:06|       loc0|          34|\n",
      "|03/04/2019 21:03:06|       loc0|          33|\n",
      "|03/04/2019 21:08:06|       loc0|          27|\n",
      "|03/04/2019 21:13:06|       loc0|          28|\n",
      "|03/04/2019 21:18:06|       loc0|          33|\n",
      "|03/04/2019 21:23:06|       loc0|          28|\n",
      "+-------------------+-----------+------------+\n",
      "only showing top 20 rows\n",
      "\n"
     ]
    }
   ],
   "source": [
    "df1.filter(df1['location_id'] == 'loc0').show()"
   ]
  },
  {
   "cell_type": "code",
   "execution_count": 27,
   "id": "11ab9d63-4652-4b44-946b-6e5572fa7413",
   "metadata": {
    "tags": []
   },
   "outputs": [
    {
     "data": {
      "text/plain": [
       "1000"
      ]
     },
     "execution_count": 27,
     "metadata": {},
     "output_type": "execute_result"
    }
   ],
   "source": [
    "## Counting the results of the filter\n",
    "df1.filter(df1['location_id'] == 'loc0').count()\n",
    "df1.filter(df1['location_id'] == 'loc1').count()"
   ]
  },
  {
   "cell_type": "code",
   "execution_count": 28,
   "id": "92bae238-133a-4a93-a591-43380e33ffbf",
   "metadata": {},
   "outputs": [],
   "source": [
    "## Aggregate data with DataFrame API"
   ]
  },
  {
   "cell_type": "code",
   "execution_count": 29,
   "id": "d41a44d0-15db-4a29-8583-430d882b3688",
   "metadata": {
    "tags": []
   },
   "outputs": [
    {
     "name": "stdout",
     "output_type": "stream",
     "text": [
      "+-------------------+-----------+------------+\n",
      "|         event_date|location_id|temp_celcius|\n",
      "+-------------------+-----------+------------+\n",
      "|03/04/2019 19:48:06|       loc0|          29|\n",
      "|03/04/2019 19:53:06|       loc0|          27|\n",
      "|03/04/2019 19:58:06|       loc0|          28|\n",
      "|03/04/2019 20:03:06|       loc0|          30|\n",
      "|03/04/2019 20:08:06|       loc0|          27|\n",
      "|03/04/2019 20:13:06|       loc0|          27|\n",
      "|03/04/2019 20:18:06|       loc0|          27|\n",
      "|03/04/2019 20:23:06|       loc0|          29|\n",
      "|03/04/2019 20:28:06|       loc0|          32|\n",
      "|03/04/2019 20:33:06|       loc0|          35|\n",
      "|03/04/2019 20:38:06|       loc0|          32|\n",
      "|03/04/2019 20:43:06|       loc0|          28|\n",
      "|03/04/2019 20:48:06|       loc0|          28|\n",
      "|03/04/2019 20:53:06|       loc0|          32|\n",
      "|03/04/2019 20:58:06|       loc0|          34|\n",
      "|03/04/2019 21:03:06|       loc0|          33|\n",
      "|03/04/2019 21:08:06|       loc0|          27|\n",
      "|03/04/2019 21:13:06|       loc0|          28|\n",
      "|03/04/2019 21:18:06|       loc0|          33|\n",
      "|03/04/2019 21:23:06|       loc0|          28|\n",
      "+-------------------+-----------+------------+\n",
      "only showing top 20 rows\n",
      "\n"
     ]
    }
   ],
   "source": [
    "df1.orderBy('location_id').show()"
   ]
  },
  {
   "cell_type": "code",
   "execution_count": 30,
   "id": "14883774-8b02-41a8-8187-cd0f8fc54009",
   "metadata": {
    "tags": []
   },
   "outputs": [
    {
     "name": "stdout",
     "output_type": "stream",
     "text": [
      "+-----------+-----------------+\n",
      "|location_id|avg(temp_celcius)|\n",
      "+-----------+-----------------+\n",
      "|      loc22|           28.251|\n",
      "|      loc31|           25.196|\n",
      "|      loc82|           27.355|\n",
      "|      loc90|           23.216|\n",
      "|     loc118|           24.219|\n",
      "|      loc39|           25.199|\n",
      "|      loc75|           23.209|\n",
      "|     loc122|            32.36|\n",
      "|      loc24|           31.109|\n",
      "|      loc30|           30.211|\n",
      "|     loc105|           26.217|\n",
      "|      loc96|           28.138|\n",
      "|     loc102|           30.327|\n",
      "|      loc18|           30.198|\n",
      "|      loc27|           31.239|\n",
      "|     loc143|           28.213|\n",
      "|      loc43|           32.196|\n",
      "|     loc123|           23.424|\n",
      "|      loc15|           32.171|\n",
      "|      loc48|           30.244|\n",
      "+-----------+-----------------+\n",
      "only showing top 20 rows\n",
      "\n"
     ]
    }
   ],
   "source": [
    "## Obtaining the mean by location_id\n",
    "df1.groupBy('location_id').agg({'temp_celcius':'mean'}).show()"
   ]
  },
  {
   "cell_type": "code",
   "execution_count": 31,
   "id": "6eb476b7-83af-443c-8b13-ed7e0642c9e3",
   "metadata": {
    "tags": []
   },
   "outputs": [
    {
     "name": "stdout",
     "output_type": "stream",
     "text": [
      "+-----------+-----------------+\n",
      "|location_id|max(temp_celcius)|\n",
      "+-----------+-----------------+\n",
      "|       loc0|               36|\n",
      "|       loc1|               35|\n",
      "|      loc10|               32|\n",
      "|     loc100|               34|\n",
      "|     loc101|               32|\n",
      "|     loc102|               37|\n",
      "|     loc103|               32|\n",
      "|     loc104|               33|\n",
      "|     loc105|               33|\n",
      "|     loc106|               34|\n",
      "|     loc107|               40|\n",
      "|     loc108|               39|\n",
      "|     loc109|               31|\n",
      "|      loc11|               32|\n",
      "|     loc110|               33|\n",
      "|     loc111|               38|\n",
      "|     loc112|               40|\n",
      "|     loc113|               37|\n",
      "|     loc114|               36|\n",
      "|     loc115|               30|\n",
      "+-----------+-----------------+\n",
      "only showing top 20 rows\n",
      "\n"
     ]
    }
   ],
   "source": [
    "## Obtaining the maximum value in each location\n",
    "df1.groupBy('location_id').agg({'temp_celcius': 'max'}).show()"
   ]
  },
  {
   "cell_type": "code",
   "execution_count": 32,
   "id": "91d3ac19-8da1-46a7-83a0-59208d3f3c17",
   "metadata": {
    "tags": []
   },
   "outputs": [],
   "source": [
    "## Sampling data"
   ]
  },
  {
   "cell_type": "code",
   "execution_count": 33,
   "id": "ffd876b1-41dc-44ea-b64e-02ab7fbd40dd",
   "metadata": {
    "tags": []
   },
   "outputs": [],
   "source": [
    "# Sample of 10% and rows will not be repeated\n",
    "df1_s1 = df1.sample(fraction=0.1, withReplacement = False)"
   ]
  },
  {
   "cell_type": "code",
   "execution_count": 34,
   "id": "c4772e20-a289-4d06-9915-03fbfa646d0d",
   "metadata": {
    "tags": []
   },
   "outputs": [
    {
     "data": {
      "text/plain": [
       "49972"
      ]
     },
     "execution_count": 34,
     "metadata": {},
     "output_type": "execute_result"
    }
   ],
   "source": [
    "df1_s1.count()"
   ]
  },
  {
   "cell_type": "code",
   "execution_count": 35,
   "id": "d07988c2-d64e-4ea6-812a-1236deb33336",
   "metadata": {
    "tags": []
   },
   "outputs": [
    {
     "name": "stdout",
     "output_type": "stream",
     "text": [
      "+-----------+------------------+\n",
      "|location_id| avg(temp_celcius)|\n",
      "+-----------+------------------+\n",
      "|      loc22| 28.49056603773585|\n",
      "|      loc31|              25.0|\n",
      "|      loc82|27.266666666666666|\n",
      "|      loc90|23.166666666666668|\n",
      "|     loc118|24.406976744186046|\n",
      "|      loc39|             25.07|\n",
      "|      loc75|23.505494505494507|\n",
      "|     loc122| 32.00925925925926|\n",
      "|      loc24| 31.04494382022472|\n",
      "|      loc30| 30.16504854368932|\n",
      "|     loc105|             26.25|\n",
      "|      loc96|28.428571428571427|\n",
      "|     loc102|30.323529411764707|\n",
      "|      loc18|30.666666666666668|\n",
      "|      loc27|31.224719101123597|\n",
      "|     loc143|28.282608695652176|\n",
      "|      loc43| 32.09016393442623|\n",
      "|     loc123| 23.17142857142857|\n",
      "|      loc15| 32.30434782608695|\n",
      "|      loc48|29.955555555555556|\n",
      "+-----------+------------------+\n",
      "only showing top 20 rows\n",
      "\n"
     ]
    }
   ],
   "source": [
    "df1_s1.groupBy('location_id').agg({'temp_celcius': 'mean'}).show()"
   ]
  },
  {
   "cell_type": "code",
   "execution_count": 36,
   "id": "e0e6366c-cc25-4ebc-8a31-25c3bfbfaa51",
   "metadata": {
    "tags": []
   },
   "outputs": [
    {
     "name": "stdout",
     "output_type": "stream",
     "text": [
      "+-----------+------------------+\n",
      "|location_id| avg(temp_celcius)|\n",
      "+-----------+------------------+\n",
      "|       loc0| 29.17391304347826|\n",
      "|       loc1|28.316326530612244|\n",
      "|      loc10|25.307692307692307|\n",
      "|     loc100| 27.12087912087912|\n",
      "|     loc101|25.048780487804876|\n",
      "|     loc102|30.323529411764707|\n",
      "|     loc103|25.615384615384617|\n",
      "|     loc104|26.456521739130434|\n",
      "|     loc105|             26.25|\n",
      "|     loc106|             27.31|\n",
      "|     loc107| 33.78504672897196|\n",
      "|     loc108| 32.36842105263158|\n",
      "|     loc109|24.288888888888888|\n",
      "|      loc11|25.081818181818182|\n",
      "|     loc110|26.358695652173914|\n",
      "|     loc111|31.495495495495497|\n",
      "|     loc112| 33.57627118644068|\n",
      "|     loc113|             30.23|\n",
      "|     loc114|29.097087378640776|\n",
      "|     loc115|23.137254901960784|\n",
      "+-----------+------------------+\n",
      "only showing top 20 rows\n",
      "\n"
     ]
    }
   ],
   "source": [
    "## Ordering the sample by location id\n",
    "df1_s1.groupBy('location_id').agg({'temp_celcius': 'mean'}).orderBy('location_id').show()"
   ]
  },
  {
   "cell_type": "code",
   "execution_count": 37,
   "id": "7976cf58-12d8-4ffc-8bf3-adead439e58a",
   "metadata": {
    "tags": []
   },
   "outputs": [
    {
     "name": "stdout",
     "output_type": "stream",
     "text": [
      "+-----------+-----------------+\n",
      "|location_id|avg(temp_celcius)|\n",
      "+-----------+-----------------+\n",
      "|       loc0|           29.176|\n",
      "|       loc1|           28.246|\n",
      "|      loc10|           25.337|\n",
      "|     loc100|           27.297|\n",
      "|     loc101|           25.317|\n",
      "|     loc102|           30.327|\n",
      "|     loc103|           25.341|\n",
      "|     loc104|           26.204|\n",
      "|     loc105|           26.217|\n",
      "|     loc106|           27.201|\n",
      "|     loc107|           33.268|\n",
      "|     loc108|           32.195|\n",
      "|     loc109|           24.138|\n",
      "|      loc11|           25.308|\n",
      "|     loc110|           26.239|\n",
      "|     loc111|           31.391|\n",
      "|     loc112|           33.359|\n",
      "|     loc113|           30.345|\n",
      "|     loc114|           29.261|\n",
      "|     loc115|           23.239|\n",
      "+-----------+-----------------+\n",
      "only showing top 20 rows\n",
      "\n"
     ]
    }
   ],
   "source": [
    "df1.groupBy('location_id').agg({'temp_celcius': 'mean'}).orderBy('location_id').show()"
   ]
  },
  {
   "cell_type": "code",
   "execution_count": 38,
   "id": "b9e02a44-1e33-4b21-999f-86e10e0660ea",
   "metadata": {
    "tags": []
   },
   "outputs": [],
   "source": [
    "## Saving data from DataFrames"
   ]
  },
  {
   "cell_type": "code",
   "execution_count": 39,
   "id": "9f692af8-e53e-4015-9507-83cbe183e338",
   "metadata": {
    "tags": []
   },
   "outputs": [],
   "source": [
    "df1.write.csv('df1.csv')"
   ]
  },
  {
   "cell_type": "code",
   "execution_count": 50,
   "id": "d0e6d560-703d-489b-b9ce-2743b7647d38",
   "metadata": {},
   "outputs": [
    {
     "name": "stdout",
     "output_type": "stream",
     "text": [
      " El volumen de la unidad C no tiene etiqueta.\n",
      " El número de serie del volumen es: E61D-C331\n",
      "\n",
      " Directorio de C:\\Users\\pcmr\\OneDrive\\PROGRAMACION\\PYTHON\\pyspark\\df1.csv\n",
      "\n",
      "08/07/2024  19:38    <DIR>          .\n",
      "08/07/2024  19:38    <DIR>          ..\n",
      "08/07/2024  19:38            33.900 .part-00000-0c74d570-ea05-4bc4-913a-73f97434aa21-c000.csv.crc\n",
      "08/07/2024  19:38            33.872 .part-00001-0c74d570-ea05-4bc4-913a-73f97434aa21-c000.csv.crc\n",
      "08/07/2024  19:38            33.872 .part-00002-0c74d570-ea05-4bc4-913a-73f97434aa21-c000.csv.crc\n",
      "08/07/2024  19:38            18.636 .part-00003-0c74d570-ea05-4bc4-913a-73f97434aa21-c000.csv.crc\n",
      "08/07/2024  19:38                 8 ._SUCCESS.crc\n",
      "08/07/2024  19:38         4.337.756 part-00000-0c74d570-ea05-4bc4-913a-73f97434aa21-c000.csv\n",
      "08/07/2024  19:38         4.334.110 part-00001-0c74d570-ea05-4bc4-913a-73f97434aa21-c000.csv\n",
      "08/07/2024  19:38         4.334.110 part-00002-0c74d570-ea05-4bc4-913a-73f97434aa21-c000.csv\n",
      "08/07/2024  19:38         2.384.024 part-00003-0c74d570-ea05-4bc4-913a-73f97434aa21-c000.csv\n",
      "08/07/2024  19:38                 0 _SUCCESS\n",
      "              10 archivos     15.510.288 bytes\n",
      "               2 dirs  525.552.910.336 bytes libres\n"
     ]
    }
   ],
   "source": [
    "! dir df1.csv"
   ]
  },
  {
   "cell_type": "code",
   "execution_count": 59,
   "id": "7ad80dd9-8201-453d-b89a-3054c37a5a54",
   "metadata": {
    "tags": []
   },
   "outputs": [],
   "source": [
    "## ! more df1.csv\\part-00000-0c74d570-ea05-4bc4-913a-73f97434aa21-c000.csv"
   ]
  },
  {
   "cell_type": "code",
   "execution_count": 60,
   "id": "7e3febfc-4b26-4298-b12d-06d38f034759",
   "metadata": {
    "tags": []
   },
   "outputs": [],
   "source": [
    "df1.write.json('df1.json')"
   ]
  },
  {
   "cell_type": "code",
   "execution_count": 61,
   "id": "eb2df2ba-9130-4353-a12f-731785d42df3",
   "metadata": {
    "tags": []
   },
   "outputs": [
    {
     "name": "stdout",
     "output_type": "stream",
     "text": [
      " El volumen de la unidad C no tiene etiqueta.\n",
      " El número de serie del volumen es: E61D-C331\n",
      "\n",
      " Directorio de C:\\Users\\pcmr\\OneDrive\\PROGRAMACION\\PYTHON\\pyspark\\df1.json\n",
      "\n",
      "08/07/2024  19:50    <DIR>          .\n",
      "08/07/2024  19:50    <DIR>          ..\n",
      "08/07/2024  19:50            88.824 .part-00000-5572534c-08d8-4b9c-b69e-f845a00adbf9-c000.json.crc\n",
      "08/07/2024  19:50            87.392 .part-00001-5572534c-08d8-4b9c-b69e-f845a00adbf9-c000.json.crc\n",
      "08/07/2024  19:50            87.392 .part-00002-5572534c-08d8-4b9c-b69e-f845a00adbf9-c000.json.crc\n",
      "08/07/2024  19:50            48.076 .part-00003-5572534c-08d8-4b9c-b69e-f845a00adbf9-c000.json.crc\n",
      "08/07/2024  19:50                 8 ._SUCCESS.crc\n",
      "08/07/2024  19:50        11.368.080 part-00000-5572534c-08d8-4b9c-b69e-f845a00adbf9-c000.json\n",
      "08/07/2024  19:50        11.184.800 part-00001-5572534c-08d8-4b9c-b69e-f845a00adbf9-c000.json\n",
      "08/07/2024  19:50        11.184.800 part-00002-5572534c-08d8-4b9c-b69e-f845a00adbf9-c000.json\n",
      "08/07/2024  19:50         6.152.320 part-00003-5572534c-08d8-4b9c-b69e-f845a00adbf9-c000.json\n",
      "08/07/2024  19:50                 0 _SUCCESS\n",
      "              10 archivos     40.201.692 bytes\n",
      "               2 dirs  525.513.170.944 bytes libres\n"
     ]
    }
   ],
   "source": [
    "! dir df1.json"
   ]
  },
  {
   "cell_type": "code",
   "execution_count": 2,
   "id": "9608c72d-e95f-4832-a003-12df532bece2",
   "metadata": {
    "tags": []
   },
   "outputs": [],
   "source": [
    "## ! more df1.json\\part-00000-5572534c-08d8-4b9c-b69e-f845a00adbf9-c000.json"
   ]
  },
  {
   "cell_type": "code",
   "execution_count": null,
   "id": "02c6fbe4-6f5b-4f53-9773-be3de69875cf",
   "metadata": {},
   "outputs": [],
   "source": [
    "## To drop the duplicates:\n",
    "## df_name.drop_duplicates()\n",
    "\n",
    "## Check the duplicates in a specific column\n",
    "## df_name.drop_duplicates(['column_name'])"
   ]
  },
  {
   "cell_type": "code",
   "execution_count": 3,
   "id": "85c837cc-6a92-4733-adee-9c8887bed20b",
   "metadata": {
    "tags": []
   },
   "outputs": [],
   "source": [
    "## Dealing with NA values\n",
    "## from pyspark.sql import Row\n",
    "## from pyspark.sql import SparkSession\n",
    "## from pyspark.sql.functions import lit\n",
    "## from pyspark.sql.types import StringType\n",
    "\n",
    "## df_na = df.withColumn('na_col'), lit(None).cast(StringType()))\n",
    "## df_na.show()\n",
    "\n",
    "## df_na.fillna('A').show() --- na_col goes from null to 'A'\n",
    "\n",
    "\n",
    "'''\n",
    "The next line of code will fill null values with 'A' in the na_col and then join the\n",
    "table with both data with na_colum = null, and na_colum = 'A'\n",
    "'''\n",
    "## df2 = df_na.fillna('A').union(df_na)\n",
    "\n",
    "'''\n",
    "Then drop all the columns with NA values\n",
    "'''\n",
    "## df2.na.drop()"
   ]
  },
  {
   "cell_type": "code",
   "execution_count": null,
   "id": "3f4635f9-0daa-495d-872d-998aa8e29d66",
   "metadata": {},
   "outputs": [],
   "source": []
  }
 ],
 "metadata": {
  "kernelspec": {
   "display_name": "Python 3 (ipykernel)",
   "language": "python",
   "name": "python3"
  },
  "language_info": {
   "codemirror_mode": {
    "name": "ipython",
    "version": 3
   },
   "file_extension": ".py",
   "mimetype": "text/x-python",
   "name": "python",
   "nbconvert_exporter": "python",
   "pygments_lexer": "ipython3",
   "version": "3.11.4"
  }
 },
 "nbformat": 4,
 "nbformat_minor": 5
}
