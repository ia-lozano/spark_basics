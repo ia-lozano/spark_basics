{
 "cells": [
  {
   "cell_type": "code",
   "execution_count": 1,
   "id": "8048270e-372c-408b-bf90-1078ba8be5a5",
   "metadata": {
    "tags": []
   },
   "outputs": [],
   "source": [
    "from pyspark.sql import SparkSession"
   ]
  },
  {
   "cell_type": "code",
   "execution_count": 5,
   "id": "0ebb5777-9c62-4040-8305-59dc7a3fdd95",
   "metadata": {
    "tags": []
   },
   "outputs": [],
   "source": [
    "spark = SparkSession.builder.appName('Spark SQL Query Dataframes').getOrCreate()"
   ]
  },
  {
   "cell_type": "code",
   "execution_count": 8,
   "id": "8e1f958b-c458-46e1-9a3b-2fde7676f5cd",
   "metadata": {
    "tags": []
   },
   "outputs": [],
   "source": [
    "data_path = 'C:/Users/pcmr/spark/data/'"
   ]
  },
  {
   "cell_type": "code",
   "execution_count": 9,
   "id": "37cd6da4-5ee7-4ede-988d-c0bb51f03a25",
   "metadata": {
    "tags": []
   },
   "outputs": [],
   "source": [
    "json_df2_path = data_path + 'utilization.json'\n",
    "df = spark.read.format('json').load(json_df2_path)"
   ]
  },
  {
   "cell_type": "code",
   "execution_count": 10,
   "id": "bffc0c8e-8a9d-41a9-af6a-45a93b127671",
   "metadata": {
    "tags": []
   },
   "outputs": [
    {
     "name": "stdout",
     "output_type": "stream",
     "text": [
      "+---------------+-------------------+-----------+---------+-------------+\n",
      "|cpu_utilization|     event_datetime|free_memory|server_id|session_count|\n",
      "+---------------+-------------------+-----------+---------+-------------+\n",
      "|           0.57|03/05/2019 08:06:14|       0.51|      100|           47|\n",
      "|           0.47|03/05/2019 08:11:14|       0.62|      100|           43|\n",
      "|           0.56|03/05/2019 08:16:14|       0.57|      100|           62|\n",
      "|           0.57|03/05/2019 08:21:14|       0.56|      100|           50|\n",
      "|           0.35|03/05/2019 08:26:14|       0.46|      100|           43|\n",
      "|           0.41|03/05/2019 08:31:14|       0.58|      100|           48|\n",
      "|           0.57|03/05/2019 08:36:14|       0.35|      100|           58|\n",
      "|           0.41|03/05/2019 08:41:14|        0.4|      100|           58|\n",
      "|           0.53|03/05/2019 08:46:14|       0.35|      100|           62|\n",
      "|           0.51|03/05/2019 08:51:14|        0.6|      100|           45|\n",
      "+---------------+-------------------+-----------+---------+-------------+\n",
      "only showing top 10 rows\n",
      "\n"
     ]
    }
   ],
   "source": [
    "df.show(10)"
   ]
  },
  {
   "cell_type": "code",
   "execution_count": 12,
   "id": "09e085ff-023e-4d7c-b886-3491296a03e4",
   "metadata": {
    "tags": []
   },
   "outputs": [
    {
     "data": {
      "text/plain": [
       "500000"
      ]
     },
     "execution_count": 12,
     "metadata": {},
     "output_type": "execute_result"
    }
   ],
   "source": [
    "df.count()"
   ]
  },
  {
   "cell_type": "code",
   "execution_count": 20,
   "id": "8dd6057d-3780-4d23-a7b9-b06c8964ff01",
   "metadata": {
    "tags": []
   },
   "outputs": [],
   "source": [
    "## Querying DataFrames"
   ]
  },
  {
   "cell_type": "code",
   "execution_count": 13,
   "id": "28ad6bf4-5514-4f00-88cf-66e02c786ae2",
   "metadata": {
    "tags": []
   },
   "outputs": [],
   "source": [
    "df.createOrReplaceTempView('utilization')"
   ]
  },
  {
   "cell_type": "code",
   "execution_count": 14,
   "id": "8aaefc8d-2c95-4a32-a519-f437d8703c67",
   "metadata": {
    "tags": []
   },
   "outputs": [],
   "source": [
    "df_sql = spark.sql('SELECT * FROM utilization LIMIT 10')"
   ]
  },
  {
   "cell_type": "code",
   "execution_count": 16,
   "id": "7873d416-27ed-4dad-af0c-74971f905ff8",
   "metadata": {
    "tags": []
   },
   "outputs": [
    {
     "name": "stdout",
     "output_type": "stream",
     "text": [
      "+---------------+-------------------+-----------+---------+-------------+\n",
      "|cpu_utilization|     event_datetime|free_memory|server_id|session_count|\n",
      "+---------------+-------------------+-----------+---------+-------------+\n",
      "|           0.57|03/05/2019 08:06:14|       0.51|      100|           47|\n",
      "|           0.47|03/05/2019 08:11:14|       0.62|      100|           43|\n",
      "|           0.56|03/05/2019 08:16:14|       0.57|      100|           62|\n",
      "|           0.57|03/05/2019 08:21:14|       0.56|      100|           50|\n",
      "|           0.35|03/05/2019 08:26:14|       0.46|      100|           43|\n",
      "|           0.41|03/05/2019 08:31:14|       0.58|      100|           48|\n",
      "|           0.57|03/05/2019 08:36:14|       0.35|      100|           58|\n",
      "|           0.41|03/05/2019 08:41:14|        0.4|      100|           58|\n",
      "|           0.53|03/05/2019 08:46:14|       0.35|      100|           62|\n",
      "|           0.51|03/05/2019 08:51:14|        0.6|      100|           45|\n",
      "+---------------+-------------------+-----------+---------+-------------+\n",
      "\n"
     ]
    }
   ],
   "source": [
    "df_sql.show()"
   ]
  },
  {
   "cell_type": "code",
   "execution_count": 17,
   "id": "215fe618-64d0-494d-b267-1ed38a97fe52",
   "metadata": {
    "tags": []
   },
   "outputs": [
    {
     "data": {
      "text/plain": [
       "10"
      ]
     },
     "execution_count": 17,
     "metadata": {},
     "output_type": "execute_result"
    }
   ],
   "source": [
    "df_sql.count()"
   ]
  },
  {
   "cell_type": "code",
   "execution_count": 18,
   "id": "5cfcc005-14d3-4287-9f25-825f0f619a9e",
   "metadata": {
    "tags": []
   },
   "outputs": [],
   "source": [
    "df_sql = spark.sql('SELECT server_id AS sid, session_count AS sc FROM utilization')"
   ]
  },
  {
   "cell_type": "code",
   "execution_count": 19,
   "id": "aa2a7313-f69c-4300-9b62-e5e13f55ed5b",
   "metadata": {
    "tags": []
   },
   "outputs": [
    {
     "name": "stdout",
     "output_type": "stream",
     "text": [
      "+---+---+\n",
      "|sid| sc|\n",
      "+---+---+\n",
      "|100| 47|\n",
      "|100| 43|\n",
      "|100| 62|\n",
      "|100| 50|\n",
      "|100| 43|\n",
      "|100| 48|\n",
      "|100| 58|\n",
      "|100| 58|\n",
      "|100| 62|\n",
      "|100| 45|\n",
      "|100| 47|\n",
      "|100| 60|\n",
      "|100| 57|\n",
      "|100| 44|\n",
      "|100| 47|\n",
      "|100| 66|\n",
      "|100| 65|\n",
      "|100| 66|\n",
      "|100| 42|\n",
      "|100| 63|\n",
      "+---+---+\n",
      "only showing top 20 rows\n",
      "\n"
     ]
    }
   ],
   "source": [
    "df_sql.show()"
   ]
  },
  {
   "cell_type": "code",
   "execution_count": 21,
   "id": "bb997b04-e222-4a88-9f4f-1de12725c2a1",
   "metadata": {
    "tags": []
   },
   "outputs": [],
   "source": [
    "## Filtering DataFrames with SQL"
   ]
  },
  {
   "cell_type": "code",
   "execution_count": 22,
   "id": "6a96aad1-8aaf-460f-939c-8367c313973b",
   "metadata": {
    "tags": []
   },
   "outputs": [],
   "source": [
    "df.createOrReplaceTempView('utilization')"
   ]
  },
  {
   "cell_type": "code",
   "execution_count": 23,
   "id": "92d1e5d4-7bdb-4a93-8591-ed4721996d2e",
   "metadata": {
    "tags": []
   },
   "outputs": [],
   "source": [
    "df_sql = spark.sql('SELECT * FROM utilization WHERE server_id = 120')"
   ]
  },
  {
   "cell_type": "code",
   "execution_count": 24,
   "id": "b4673506-e115-4a8a-a8a2-353aaefbe361",
   "metadata": {
    "tags": []
   },
   "outputs": [
    {
     "name": "stdout",
     "output_type": "stream",
     "text": [
      "+---------------+-------------------+-----------+---------+-------------+\n",
      "|cpu_utilization|     event_datetime|free_memory|server_id|session_count|\n",
      "+---------------+-------------------+-----------+---------+-------------+\n",
      "|           0.66|03/05/2019 08:06:48|       0.31|      120|           54|\n",
      "|           0.58|03/05/2019 08:11:48|       0.38|      120|           64|\n",
      "|           0.55|03/05/2019 08:16:48|       0.61|      120|           54|\n",
      "|            0.7|03/05/2019 08:21:48|       0.35|      120|           80|\n",
      "|            0.6|03/05/2019 08:26:48|       0.39|      120|           71|\n",
      "|           0.53|03/05/2019 08:31:48|       0.35|      120|           49|\n",
      "|           0.73|03/05/2019 08:36:48|       0.42|      120|           73|\n",
      "|           0.41|03/05/2019 08:41:48|        0.6|      120|           72|\n",
      "|           0.62|03/05/2019 08:46:48|       0.57|      120|           57|\n",
      "|           0.67|03/05/2019 08:51:48|       0.44|      120|           78|\n",
      "|           0.67|03/05/2019 08:56:48|       0.38|      120|           73|\n",
      "|           0.39|03/05/2019 09:01:48|       0.47|      120|           58|\n",
      "|            0.5|03/05/2019 09:06:48|       0.29|      120|           78|\n",
      "|           0.38|03/05/2019 09:11:48|       0.38|      120|           56|\n",
      "|           0.53|03/05/2019 09:16:48|       0.38|      120|           47|\n",
      "|           0.74|03/05/2019 09:21:48|       0.25|      120|           69|\n",
      "|           0.53|03/05/2019 09:26:48|       0.57|      120|           73|\n",
      "|           0.54|03/05/2019 09:31:48|       0.64|      120|           65|\n",
      "|            0.7|03/05/2019 09:36:48|       0.52|      120|           55|\n",
      "|           0.54|03/05/2019 09:41:48|       0.27|      120|           74|\n",
      "+---------------+-------------------+-----------+---------+-------------+\n",
      "only showing top 20 rows\n",
      "\n"
     ]
    }
   ],
   "source": [
    "df_sql.show()"
   ]
  },
  {
   "cell_type": "code",
   "execution_count": 25,
   "id": "3430420e-4bc1-4baf-9b49-b80c052e6ef5",
   "metadata": {
    "tags": []
   },
   "outputs": [
    {
     "data": {
      "text/plain": [
       "10000"
      ]
     },
     "execution_count": 25,
     "metadata": {},
     "output_type": "execute_result"
    }
   ],
   "source": [
    "df_sql.count()"
   ]
  },
  {
   "cell_type": "code",
   "execution_count": 26,
   "id": "dfe68938-6ff3-4c64-8bab-7d04ac3d79a0",
   "metadata": {
    "tags": []
   },
   "outputs": [],
   "source": [
    "df_sql = spark.sql('SELECT server_id, session_count FROM utilization WHERE session_count > 70')"
   ]
  },
  {
   "cell_type": "code",
   "execution_count": 27,
   "id": "d5d04b49-6f08-4c0e-ad73-3fd5a74cb1eb",
   "metadata": {
    "tags": []
   },
   "outputs": [
    {
     "name": "stdout",
     "output_type": "stream",
     "text": [
      "+---------+-------------+\n",
      "|server_id|session_count|\n",
      "+---------+-------------+\n",
      "|      100|           71|\n",
      "|      100|           71|\n",
      "|      100|           71|\n",
      "|      100|           71|\n",
      "|      100|           72|\n",
      "|      100|           72|\n",
      "|      100|           71|\n",
      "|      100|           71|\n",
      "|      100|           71|\n",
      "|      100|           72|\n",
      "|      100|           71|\n",
      "|      100|           72|\n",
      "|      100|           71|\n",
      "|      100|           71|\n",
      "|      100|           72|\n",
      "|      100|           71|\n",
      "|      100|           72|\n",
      "|      100|           72|\n",
      "|      100|           71|\n",
      "|      100|           71|\n",
      "+---------+-------------+\n",
      "only showing top 20 rows\n",
      "\n"
     ]
    }
   ],
   "source": [
    "df_sql.show()"
   ]
  },
  {
   "cell_type": "code",
   "execution_count": 28,
   "id": "5e8af641-e322-4bb4-9eeb-466c2cc755d9",
   "metadata": {
    "tags": []
   },
   "outputs": [
    {
     "data": {
      "text/plain": [
       "239659"
      ]
     },
     "execution_count": 28,
     "metadata": {},
     "output_type": "execute_result"
    }
   ],
   "source": [
    "df_sql.count()"
   ]
  },
  {
   "cell_type": "code",
   "execution_count": 29,
   "id": "9f1cfe79-8398-4ae1-b993-bd22f462a548",
   "metadata": {
    "tags": []
   },
   "outputs": [],
   "source": [
    "## Selecting multiple conditions in the WHERE clause"
   ]
  },
  {
   "cell_type": "code",
   "execution_count": 31,
   "id": "7cb702f4-a001-4847-880f-b93236135cda",
   "metadata": {
    "tags": []
   },
   "outputs": [],
   "source": [
    "df_sql = spark.sql('SELECT server_id, session_count FROM utilization WHERE session_count > 70 AND server_id = 120')"
   ]
  },
  {
   "cell_type": "code",
   "execution_count": 32,
   "id": "8bbdf616-d56a-47d2-abc8-6f356767db2d",
   "metadata": {
    "tags": []
   },
   "outputs": [
    {
     "name": "stdout",
     "output_type": "stream",
     "text": [
      "+---------+-------------+\n",
      "|server_id|session_count|\n",
      "+---------+-------------+\n",
      "|      120|           80|\n",
      "|      120|           71|\n",
      "|      120|           73|\n",
      "|      120|           72|\n",
      "|      120|           78|\n",
      "|      120|           73|\n",
      "|      120|           78|\n",
      "|      120|           73|\n",
      "|      120|           74|\n",
      "|      120|           78|\n",
      "|      120|           75|\n",
      "|      120|           75|\n",
      "|      120|           73|\n",
      "|      120|           79|\n",
      "|      120|           72|\n",
      "|      120|           77|\n",
      "|      120|           75|\n",
      "|      120|           72|\n",
      "|      120|           79|\n",
      "|      120|           75|\n",
      "+---------+-------------+\n",
      "only showing top 20 rows\n",
      "\n"
     ]
    }
   ],
   "source": [
    "df_sql.show()"
   ]
  },
  {
   "cell_type": "code",
   "execution_count": 33,
   "id": "989dd1dd-f2f6-4ed3-9ce8-817c5612d2ed",
   "metadata": {
    "tags": []
   },
   "outputs": [
    {
     "data": {
      "text/plain": [
       "2733"
      ]
     },
     "execution_count": 33,
     "metadata": {},
     "output_type": "execute_result"
    }
   ],
   "source": [
    "df_sql.count()"
   ]
  },
  {
   "cell_type": "code",
   "execution_count": 34,
   "id": "19a816d4-7770-4c18-a6dd-82c80f5411f3",
   "metadata": {
    "tags": []
   },
   "outputs": [],
   "source": [
    "## Adding order by clauses"
   ]
  },
  {
   "cell_type": "code",
   "execution_count": 37,
   "id": "3c83f8cb-7cf3-45b3-98af-411bff124ad0",
   "metadata": {
    "tags": []
   },
   "outputs": [],
   "source": [
    "df_sql = spark.sql('SELECT server_id, session_count \\\n",
    "                    FROM utilization \\\n",
    "                    WHERE session_count > 70 AND server_id = 120 \\\n",
    "                    ORDER BY session_count DESC')"
   ]
  },
  {
   "cell_type": "code",
   "execution_count": 38,
   "id": "18942fce-6bcf-424e-a67d-1ccf7fce8e34",
   "metadata": {
    "tags": []
   },
   "outputs": [
    {
     "name": "stdout",
     "output_type": "stream",
     "text": [
      "+---------+-------------+\n",
      "|server_id|session_count|\n",
      "+---------+-------------+\n",
      "|      120|           80|\n",
      "|      120|           80|\n",
      "|      120|           80|\n",
      "|      120|           80|\n",
      "|      120|           80|\n",
      "|      120|           80|\n",
      "|      120|           80|\n",
      "|      120|           80|\n",
      "|      120|           80|\n",
      "|      120|           80|\n",
      "|      120|           80|\n",
      "|      120|           80|\n",
      "|      120|           80|\n",
      "|      120|           80|\n",
      "|      120|           80|\n",
      "|      120|           80|\n",
      "|      120|           80|\n",
      "|      120|           80|\n",
      "|      120|           80|\n",
      "|      120|           80|\n",
      "+---------+-------------+\n",
      "only showing top 20 rows\n",
      "\n"
     ]
    }
   ],
   "source": [
    " df_sql.show()"
   ]
  },
  {
   "cell_type": "code",
   "execution_count": 39,
   "id": "ffbc1d7e-1cae-4844-9d74-30ce860b3ddc",
   "metadata": {
    "tags": []
   },
   "outputs": [],
   "source": [
    "## Aggregating DATA with SQL"
   ]
  },
  {
   "cell_type": "code",
   "execution_count": 40,
   "id": "885bdf2f-c1eb-42bf-b2b1-321de8d40c06",
   "metadata": {
    "tags": []
   },
   "outputs": [],
   "source": [
    "df_count = spark.sql('SELECT count(*) FROM utilization')"
   ]
  },
  {
   "cell_type": "code",
   "execution_count": 41,
   "id": "edb559e5-dda4-45ed-b205-fbd4436c5fbf",
   "metadata": {
    "tags": []
   },
   "outputs": [
    {
     "name": "stdout",
     "output_type": "stream",
     "text": [
      "+--------+\n",
      "|count(1)|\n",
      "+--------+\n",
      "|  500000|\n",
      "+--------+\n",
      "\n"
     ]
    }
   ],
   "source": [
    "df_count.show()"
   ]
  },
  {
   "cell_type": "code",
   "execution_count": 42,
   "id": "4d44ddf9-66e5-4375-b590-23625a233f77",
   "metadata": {
    "tags": []
   },
   "outputs": [],
   "source": [
    "df_sql = spark.sql('SELECT count(*) \\\n",
    "                    FROM utilization \\\n",
    "                    WHERE session_count > 70')"
   ]
  },
  {
   "cell_type": "code",
   "execution_count": 43,
   "id": "aacc2f18-0694-4564-8ad1-50672dd72953",
   "metadata": {
    "tags": []
   },
   "outputs": [
    {
     "name": "stdout",
     "output_type": "stream",
     "text": [
      "+--------+\n",
      "|count(1)|\n",
      "+--------+\n",
      "|  239659|\n",
      "+--------+\n",
      "\n"
     ]
    }
   ],
   "source": [
    "df_sql.show()"
   ]
  },
  {
   "cell_type": "code",
   "execution_count": 46,
   "id": "fa3a7722-e5bd-4755-bd5f-3a7f56148cba",
   "metadata": {
    "tags": []
   },
   "outputs": [],
   "source": [
    "df_sql = spark.sql('SELECT server_id, count(*) \\\n",
    "                    FROM utilization \\\n",
    "                    WHERE session_count > 70 \\\n",
    "                    GROUP BY server_id')"
   ]
  },
  {
   "cell_type": "code",
   "execution_count": 47,
   "id": "d977ddeb-e384-4cba-bfd4-70bf20c0c60f",
   "metadata": {
    "tags": []
   },
   "outputs": [
    {
     "name": "stdout",
     "output_type": "stream",
     "text": [
      "+---------+--------+\n",
      "|server_id|count(1)|\n",
      "+---------+--------+\n",
      "|      103|    8744|\n",
      "|      104|    7366|\n",
      "|      100|     391|\n",
      "|      101|    9808|\n",
      "|      102|    8586|\n",
      "|      107|    5646|\n",
      "|      105|    1110|\n",
      "|      108|    8375|\n",
      "|      112|    7425|\n",
      "|      113|    9418|\n",
      "|      110|    2826|\n",
      "|      111|    3093|\n",
      "|      109|    3129|\n",
      "|      116|    1167|\n",
      "|      114|    2128|\n",
      "|      115|    5284|\n",
      "|      117|    3605|\n",
      "|      120|    2733|\n",
      "|      118|    7913|\n",
      "|      122|    4885|\n",
      "+---------+--------+\n",
      "only showing top 20 rows\n",
      "\n"
     ]
    }
   ],
   "source": [
    "df_sql.show()"
   ]
  },
  {
   "cell_type": "code",
   "execution_count": 48,
   "id": "f2c4d38a-3175-4651-8218-116d14b7e607",
   "metadata": {
    "tags": []
   },
   "outputs": [],
   "source": [
    "df_sql = spark.sql('SELECT server_id, count(*) \\\n",
    "                    FROM utilization \\\n",
    "                    WHERE session_count > 70 \\\n",
    "                    GROUP BY server_id \\\n",
    "                    ORDER BY count(*) DESC')"
   ]
  },
  {
   "cell_type": "code",
   "execution_count": 49,
   "id": "ac50bb31-69fa-473a-a297-e2a6c1ae6d96",
   "metadata": {
    "tags": []
   },
   "outputs": [
    {
     "name": "stdout",
     "output_type": "stream",
     "text": [
      "+---------+--------+\n",
      "|server_id|count(1)|\n",
      "+---------+--------+\n",
      "|      143|     144|\n",
      "|      100|     391|\n",
      "|      105|    1110|\n",
      "|      116|    1167|\n",
      "|      135|    1654|\n",
      "|      147|    1783|\n",
      "|      132|    2048|\n",
      "|      114|    2128|\n",
      "|      134|    2147|\n",
      "|      120|    2733|\n",
      "|      110|    2826|\n",
      "|      125|    2843|\n",
      "|      130|    2891|\n",
      "|      111|    3093|\n",
      "|      141|    3097|\n",
      "|      109|    3129|\n",
      "|      129|    3222|\n",
      "|      117|    3605|\n",
      "|      128|    3719|\n",
      "|      136|    4316|\n",
      "+---------+--------+\n",
      "only showing top 20 rows\n",
      "\n"
     ]
    }
   ],
   "source": [
    "df_sql.show()"
   ]
  },
  {
   "cell_type": "code",
   "execution_count": 54,
   "id": "05eb44f2-fb51-4a77-b4b6-353134062ec9",
   "metadata": {
    "tags": []
   },
   "outputs": [],
   "source": [
    "df_sql = spark.sql('SELECT server_id, min(session_count), round(avg(session_count), 2), max(session_count) \\\n",
    "                    FROM utilization \\\n",
    "                    WHERE session_count > 70 \\\n",
    "                    GROUP BY server_id \\\n",
    "                    ORDER BY count(*) DESC')"
   ]
  },
  {
   "cell_type": "code",
   "execution_count": 57,
   "id": "7fda7769-8f95-4a7e-9f1b-1b774f3283b4",
   "metadata": {
    "tags": []
   },
   "outputs": [
    {
     "name": "stdout",
     "output_type": "stream",
     "text": [
      "+---------+------------------+----------------------------+------------------+\n",
      "|server_id|min(session_count)|round(avg(session_count), 2)|max(session_count)|\n",
      "+---------+------------------+----------------------------+------------------+\n",
      "|      101|                71|                       87.67|               105|\n",
      "|      113|                71|                       86.96|               103|\n",
      "|      145|                71|                       86.98|               103|\n",
      "|      103|                71|                       85.76|               101|\n",
      "|      102|                71|                       85.71|               101|\n",
      "|      133|                71|                       85.47|               100|\n",
      "|      108|                71|                       85.12|               100|\n",
      "|      149|                71|                       84.96|                99|\n",
      "|      137|                71|                       85.01|                99|\n",
      "|      148|                71|                        84.7|                99|\n",
      "|      123|                71|                       84.53|                98|\n",
      "|      118|                71|                       84.66|                98|\n",
      "|      112|                71|                       83.55|                97|\n",
      "|      139|                71|                       83.33|                96|\n",
      "|      104|                71|                       83.35|                96|\n",
      "|      121|                71|                       82.89|                95|\n",
      "|      142|                71|                        82.9|                95|\n",
      "|      146|                71|                       82.95|                95|\n",
      "|      126|                71|                       81.56|                93|\n",
      "|      144|                71|                       81.38|                92|\n",
      "+---------+------------------+----------------------------+------------------+\n",
      "only showing top 20 rows\n",
      "\n"
     ]
    }
   ],
   "source": [
    "## Show data frame with the avg Rounded to 2 decimal points\n",
    "df_sql.show()"
   ]
  },
  {
   "cell_type": "code",
   "execution_count": 58,
   "id": "374d345f-4934-4f41-b0d5-c8d76d010860",
   "metadata": {
    "tags": []
   },
   "outputs": [],
   "source": [
    "## Joining DataFrames with SQL"
   ]
  },
  {
   "cell_type": "code",
   "execution_count": 65,
   "id": "63d5eea3-cf49-467a-b001-b4f0ab0a773d",
   "metadata": {
    "tags": []
   },
   "outputs": [],
   "source": [
    "## Creating a new data frame\n",
    "\n",
    "df_util = spark.read.format('json').load(json_df2_path)"
   ]
  },
  {
   "cell_type": "code",
   "execution_count": 67,
   "id": "fd1b5d45-cf90-4172-abae-528c27122c6c",
   "metadata": {
    "tags": []
   },
   "outputs": [],
   "source": [
    "df_util.createOrReplaceTempView('utilization')"
   ]
  },
  {
   "cell_type": "code",
   "execution_count": 68,
   "id": "ee330651-1dc9-44e5-9620-4588aae68d8d",
   "metadata": {
    "tags": []
   },
   "outputs": [],
   "source": [
    "csv_df_path = data_path + 'server_name.csv'"
   ]
  },
  {
   "cell_type": "code",
   "execution_count": 69,
   "id": "37d4ef8e-8103-4513-93ea-24c3b76dab05",
   "metadata": {
    "tags": []
   },
   "outputs": [],
   "source": [
    "df_server = spark.read.csv(csv_df_path, header = True)"
   ]
  },
  {
   "cell_type": "code",
   "execution_count": 71,
   "id": "eb294f26-9723-4a86-8115-bf7c0a476324",
   "metadata": {
    "tags": []
   },
   "outputs": [
    {
     "name": "stdout",
     "output_type": "stream",
     "text": [
      "+---------+-----------+\n",
      "|server_id|server_name|\n",
      "+---------+-----------+\n",
      "|      100| 100 Server|\n",
      "|      101| 101 Server|\n",
      "|      102| 102 Server|\n",
      "|      103| 103 Server|\n",
      "|      104| 104 Server|\n",
      "|      105| 105 Server|\n",
      "|      106| 106 Server|\n",
      "|      107| 107 Server|\n",
      "|      108| 108 Server|\n",
      "|      109| 109 Server|\n",
      "|      110| 110 Server|\n",
      "|      111| 111 Server|\n",
      "|      112| 112 Server|\n",
      "|      113| 113 Server|\n",
      "|      114| 114 Server|\n",
      "|      115| 115 Server|\n",
      "|      116| 116 Server|\n",
      "|      117| 117 Server|\n",
      "|      118| 118 Server|\n",
      "|      119| 119 Server|\n",
      "+---------+-----------+\n",
      "only showing top 20 rows\n",
      "\n"
     ]
    }
   ],
   "source": [
    "df_server.show()"
   ]
  },
  {
   "cell_type": "code",
   "execution_count": 72,
   "id": "da239cc5-fee9-4344-9ac8-c8307300bf21",
   "metadata": {
    "tags": []
   },
   "outputs": [],
   "source": [
    "df_server.createOrReplaceTempView('server_name')"
   ]
  },
  {
   "cell_type": "code",
   "execution_count": 73,
   "id": "d89a973a-9082-40ff-b84c-14bad9949247",
   "metadata": {
    "tags": []
   },
   "outputs": [],
   "source": [
    "df_count = spark.sql('SELECT DISTINCT server_id FROM utilization ORDER BY server_id')"
   ]
  },
  {
   "cell_type": "code",
   "execution_count": 74,
   "id": "16f91c4e-549e-4ce1-b1d9-c2c9c09b8f32",
   "metadata": {
    "tags": []
   },
   "outputs": [
    {
     "name": "stdout",
     "output_type": "stream",
     "text": [
      "+---------+\n",
      "|server_id|\n",
      "+---------+\n",
      "|      100|\n",
      "|      101|\n",
      "|      102|\n",
      "|      103|\n",
      "|      104|\n",
      "|      105|\n",
      "|      106|\n",
      "|      107|\n",
      "|      108|\n",
      "|      109|\n",
      "|      110|\n",
      "|      111|\n",
      "|      112|\n",
      "|      113|\n",
      "|      114|\n",
      "|      115|\n",
      "|      116|\n",
      "|      117|\n",
      "|      118|\n",
      "|      119|\n",
      "+---------+\n",
      "only showing top 20 rows\n",
      "\n"
     ]
    }
   ],
   "source": [
    "df_count.show()"
   ]
  },
  {
   "cell_type": "code",
   "execution_count": 75,
   "id": "400e703e-ac35-4120-8bcc-2f2617bf5d74",
   "metadata": {
    "tags": []
   },
   "outputs": [
    {
     "name": "stdout",
     "output_type": "stream",
     "text": [
      "+--------------+--------------+\n",
      "|min(server_id)|max(server_id)|\n",
      "+--------------+--------------+\n",
      "|           100|           149|\n",
      "+--------------+--------------+\n",
      "\n"
     ]
    }
   ],
   "source": [
    "spark.sql('SELECT min(server_id), max(server_id) FROM utilization').show()"
   ]
  },
  {
   "cell_type": "code",
   "execution_count": 82,
   "id": "3e49fa2b-7801-42a3-b95a-a236a98d53f6",
   "metadata": {
    "tags": []
   },
   "outputs": [],
   "source": [
    "## Joining DataFrames\n",
    "df_join = spark.sql('SELECT u.server_id, sn.server_name, u.session_count \\\n",
    "                     FROM utilization u \\\n",
    "                     INNER JOIN server_name sn \\\n",
    "                     ON sn.server_id = u.server_id')"
   ]
  },
  {
   "cell_type": "code",
   "execution_count": 83,
   "id": "ae7fe04e-542b-4237-9314-1dbd21bc9e85",
   "metadata": {
    "tags": []
   },
   "outputs": [
    {
     "name": "stdout",
     "output_type": "stream",
     "text": [
      "+---------+-----------+-------------+\n",
      "|server_id|server_name|session_count|\n",
      "+---------+-----------+-------------+\n",
      "|      100| 100 Server|           47|\n",
      "|      100| 100 Server|           43|\n",
      "|      100| 100 Server|           62|\n",
      "|      100| 100 Server|           50|\n",
      "|      100| 100 Server|           43|\n",
      "|      100| 100 Server|           48|\n",
      "|      100| 100 Server|           58|\n",
      "|      100| 100 Server|           58|\n",
      "|      100| 100 Server|           62|\n",
      "|      100| 100 Server|           45|\n",
      "|      100| 100 Server|           47|\n",
      "|      100| 100 Server|           60|\n",
      "|      100| 100 Server|           57|\n",
      "|      100| 100 Server|           44|\n",
      "|      100| 100 Server|           47|\n",
      "|      100| 100 Server|           66|\n",
      "|      100| 100 Server|           65|\n",
      "|      100| 100 Server|           66|\n",
      "|      100| 100 Server|           42|\n",
      "|      100| 100 Server|           63|\n",
      "+---------+-----------+-------------+\n",
      "only showing top 20 rows\n",
      "\n"
     ]
    }
   ],
   "source": [
    "df_join.show()"
   ]
  },
  {
   "cell_type": "code",
   "execution_count": null,
   "id": "3a865b61-f31d-4be7-87fb-a48c9bc037e5",
   "metadata": {},
   "outputs": [],
   "source": []
  }
 ],
 "metadata": {
  "kernelspec": {
   "display_name": "Python 3 (ipykernel)",
   "language": "python",
   "name": "python3"
  },
  "language_info": {
   "codemirror_mode": {
    "name": "ipython",
    "version": 3
   },
   "file_extension": ".py",
   "mimetype": "text/x-python",
   "name": "python",
   "nbconvert_exporter": "python",
   "pygments_lexer": "ipython3",
   "version": "3.11.4"
  }
 },
 "nbformat": 4,
 "nbformat_minor": 5
}
